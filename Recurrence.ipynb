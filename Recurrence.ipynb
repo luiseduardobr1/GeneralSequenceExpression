{
 "cells": [
  {
   "cell_type": "code",
   "execution_count": 34,
   "metadata": {
    "ExecuteTime": {
     "end_time": "2020-05-03T14:49:00.136956Z",
     "start_time": "2020-05-03T14:49:00.130956Z"
    }
   },
   "outputs": [],
   "source": [
    "# Show all output's on Jupyter Notebook\n",
    "from IPython.core.interactiveshell import InteractiveShell\n",
    "InteractiveShell.ast_node_interactivity = \"all\""
   ]
  },
  {
   "cell_type": "markdown",
   "metadata": {},
   "source": [
    "# Sequence Example - Fibonacci"
   ]
  },
  {
   "cell_type": "code",
   "execution_count": 12,
   "metadata": {
    "ExecuteTime": {
     "end_time": "2020-05-03T14:25:53.332857Z",
     "start_time": "2020-05-03T14:25:53.323856Z"
    }
   },
   "outputs": [
    {
     "name": "stdout",
     "output_type": "stream",
     "text": [
      "2\n"
     ]
    }
   ],
   "source": [
    "# n = position of the sequence. \n",
    "# 0,1,1,2,3,...\n",
    "\n",
    "def fibonacci(n):\n",
    "    if n==0:\n",
    "        return(0)\n",
    "    if n==1:\n",
    "        return(1)\n",
    "    else:\n",
    "        return(fibonacci(n-1)+fibonacci(n-2))\n",
    "    \n",
    "print(fibonacci(3))"
   ]
  },
  {
   "cell_type": "markdown",
   "metadata": {},
   "source": [
    "# General $a_n$ Sequence Expression"
   ]
  },
  {
   "cell_type": "code",
   "execution_count": 54,
   "metadata": {
    "ExecuteTime": {
     "end_time": "2020-05-03T16:23:21.307712Z",
     "start_time": "2020-05-03T16:23:21.286710Z"
    }
   },
   "outputs": [
    {
     "data": {
      "text/plain": [
       "array([ 2.41421356, -0.41421356])"
      ]
     },
     "execution_count": 54,
     "metadata": {},
     "output_type": "execute_result"
    },
    {
     "data": {
      "text/plain": [
       "array([[ 0.35355339],\n",
       "       [-0.35355339]])"
      ]
     },
     "execution_count": 54,
     "metadata": {},
     "output_type": "execute_result"
    },
    {
     "data": {
      "text/plain": [
       "array([12.])"
      ]
     },
     "execution_count": 54,
     "metadata": {},
     "output_type": "execute_result"
    }
   ],
   "source": [
    "import numpy as np\n",
    "\n",
    "# Equation a_n - 2.a_(n-1) - a_(n-2) = 0\n",
    "coef=[1, -2, -1]\n",
    "roots = np.roots(coef)\n",
    "roots\n",
    "\n",
    "# Initial solutions - same number of roots\n",
    "sol = np.array([[0], [1]])\n",
    "    \n",
    "# Roots matrix (for multiplication with coefficient matrix)\n",
    "for i in range(len(roots)):\n",
    "    if i==0:\n",
    "        a = [np.power(roots,i)]\n",
    "        b = [np.power(roots,i+1)]\n",
    "        b = np.concatenate((a, b), axis=0)\n",
    "    if i==1:\n",
    "        pass\n",
    "    if i>1:\n",
    "        a = [np.power(roots,i)]\n",
    "        b = np.concatenate((b, a), axis=0)\n",
    "\n",
    "# Coefficient matrix - a_n = (coef1).(root1)^n + (coef2).(root2)^n + ...\n",
    "# b.x = sol --> x = b^-1.sol\n",
    "coef_matrix = np.linalg.solve(b, sol)\n",
    "coef_matrix\n",
    "\n",
    "# General solution (a_n) = (roots)^n . (coef_matrix)\n",
    "n = 4\n",
    "a_n = np.power(roots, n) @ coef_matrix\n",
    "a_n.real"
   ]
  }
 ],
 "metadata": {
  "hide_input": false,
  "kernelspec": {
   "display_name": "Python 3",
   "language": "python",
   "name": "python3"
  },
  "language_info": {
   "codemirror_mode": {
    "name": "ipython",
    "version": 3
   },
   "file_extension": ".py",
   "mimetype": "text/x-python",
   "name": "python",
   "nbconvert_exporter": "python",
   "pygments_lexer": "ipython3",
   "version": "3.7.6"
  },
  "toc": {
   "base_numbering": 1,
   "nav_menu": {},
   "number_sections": true,
   "sideBar": true,
   "skip_h1_title": false,
   "title_cell": "Table of Contents",
   "title_sidebar": "Contents",
   "toc_cell": false,
   "toc_position": {},
   "toc_section_display": true,
   "toc_window_display": false
  },
  "varInspector": {
   "cols": {
    "lenName": 16,
    "lenType": 16,
    "lenVar": 40
   },
   "kernels_config": {
    "python": {
     "delete_cmd_postfix": "",
     "delete_cmd_prefix": "del ",
     "library": "var_list.py",
     "varRefreshCmd": "print(var_dic_list())"
    },
    "r": {
     "delete_cmd_postfix": ") ",
     "delete_cmd_prefix": "rm(",
     "library": "var_list.r",
     "varRefreshCmd": "cat(var_dic_list()) "
    }
   },
   "types_to_exclude": [
    "module",
    "function",
    "builtin_function_or_method",
    "instance",
    "_Feature"
   ],
   "window_display": false
  }
 },
 "nbformat": 4,
 "nbformat_minor": 4
}
